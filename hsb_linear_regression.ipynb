import numpy as np
import pandas as pd
import matplotlib.pyplot as plt
from sklearn.linear_model import LinearRegression
import statsmodels.api as sm

# Load the CSV file (replace 'your_file.csv' with your actual file path)
df = pd.read_csv('/Users/nathan/Downloads/hsb.csv')

# Define X and Y
X = df[['math']]  # Predictor variable (must be 2D for scikit-learn)
y = df['science']    # Response variable

# Fit a linear regression model
model = LinearRegression()
model.fit(X, y)

# Predict y values
y_pred = model.predict(X)

# Calculate residuals
residuals = y - y_pred

# Calculate the sum of squared residuals (SSR)
SSR = np.sum(residuals**2)
print(f"Sum of Squared Residuals (SSR): {SSR:.2f}")

# Plot the data, regression line, and residuals
plt.scatter(X, y, color='blue', label='Data Points')
plt.plot(X, y_pred, color='red', label='Regression Line')

# for i in range(len(X)):
# plt.vlines(X.iloc[i], y_pred[i], y.iloc[i], color='gray', linestyle='--')  # Residual lines

plt.xlabel('Math score')
plt.ylabel('Science score')
plt.xlim(30, 80)   # Set x-axis from 0 to 6
plt.ylim(20, 80)
plt.legend()
plt.title('Linear Regression with Residuals')
plt.show()


X = sm.add_constant(X)

# Create and fit the OLS regression model
model = sm.OLS(y, X)
results = model.fit()

# Print the p-value for the slope (X variable)
p_value = results.pvalues['math']

# Display the full summary (optional)
print(results.summary())
